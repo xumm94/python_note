{
 "cells": [
  {
   "cell_type": "code",
   "execution_count": 1,
   "metadata": {
    "collapsed": true
   },
   "outputs": [],
   "source": [
    "import tensorflow as tf"
   ]
  },
  {
   "cell_type": "code",
   "execution_count": 2,
   "metadata": {
    "collapsed": true
   },
   "outputs": [],
   "source": [
    "filter_weight = tf.get_variable(\"weights\", [5, 5, 3, 16], initializer = tf.truncated_normal_initializer(stddev = 0.1))\n",
    "#维度参数为4，前两个为卷积核的大小，第三个参数为当前深度，第四个参数为卷积后深度\n",
    "biases = tf.get_variable(\"biases\", [16], initializer = tf.constant_initializer(0.1))\n",
    "#共享参数，偏置信号的个数与卷积后深度相同"
   ]
  },
  {
   "cell_type": "code",
   "execution_count": null,
   "metadata": {
    "collapsed": true
   },
   "outputs": [],
   "source": [
    "conv = tf.nn.conv2d(\n",
    "    input, filter_weight, strides = [1, 1, 1, 1], padding = 'SAME')\n",
    "#input共四个参数，第一个参数表示第几张图片\n",
    "#strides表示卷积的步长，第一个参数和最后一个参数一定为1（卷积层的步长只对矩阵的长和宽有效）\n",
    "#padding表示是否填充，SAME表示全零填充，VALID表示不填充"
   ]
  },
  {
   "cell_type": "code",
   "execution_count": null,
   "metadata": {
    "collapsed": true
   },
   "outputs": [],
   "source": [
    "bias = tf.nn.bias_add(conv, biases)"
   ]
  },
  {
   "cell_type": "code",
   "execution_count": null,
   "metadata": {
    "collapsed": true
   },
   "outputs": [],
   "source": [
    "actived_conv = tf.nn.relu(bias)"
   ]
  },
  {
   "cell_type": "code",
   "execution_count": null,
   "metadata": {
    "collapsed": true
   },
   "outputs": [],
   "source": [
    "pool = tf.nn.max_pool(actived_conv, ksize = [1, 3, 3, 1],\n",
    "                     strides = [1, 2, 2, 1], padding = 'SAME')\n"
   ]
  }
 ],
 "metadata": {
  "kernelspec": {
   "display_name": "py27",
   "language": "python",
   "name": "py27"
  },
  "language_info": {
   "codemirror_mode": {
    "name": "ipython",
    "version": 2
   },
   "file_extension": ".py",
   "mimetype": "text/x-python",
   "name": "python",
   "nbconvert_exporter": "python",
   "pygments_lexer": "ipython2",
   "version": "2.7.12"
  }
 },
 "nbformat": 4,
 "nbformat_minor": 2
}
